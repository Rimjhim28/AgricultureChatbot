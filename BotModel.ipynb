{
 "cells": [
  {
   "cell_type": "code",
   "execution_count": 2,
   "metadata": {},
   "outputs": [
    {
     "name": "stdout",
     "output_type": "stream",
     "text": [
      "(767, 315)\n"
     ]
    }
   ],
   "source": [
    "import pandas as pd\n",
    "import pickle\n",
    "from sklearn.model_selection import train_test_split\n",
    "from sklearn.feature_extraction.text import CountVectorizer\n",
    "from sklearn.feature_extraction.text import TfidfTransformer\n",
    "from sklearn.naive_bayes import MultinomialNB\n",
    "import numpy as np\n",
    "from sklearn.linear_model import SGDClassifier\n",
    "from sklearn.neural_network import MLPClassifier\n",
    "\n",
    "#Importing the data\n",
    "data = pd.read_csv(\"data.csv\", usecols = [\"Crop\", \"QueryType\", \"QueryText\", \"KccAns\"])\n",
    "#print(data.head())\n",
    "\n",
    "#PreProcess Data\n",
    "df = pd.DataFrame(columns=['Crop', 'QueryType', 'QueryText', 'KccAns'])\n",
    "for index, row in data.iterrows():\n",
    "    b = []\n",
    "    crop = row['Crop']\n",
    "    a = crop.split('(')\n",
    "    for x in a:\n",
    "        temp_list = x.split('/')\n",
    "        for crop in temp_list:\n",
    "            crop.lower()\n",
    "            b.append(crop)\n",
    "    b[:] = [s.lower() for s in b]\n",
    "    b[:] = [s.strip(')') for s in b]\n",
    "    b[:] = [s.strip() for s in b]\n",
    "    for x in b:\n",
    "        df = df.append({'Crop':x, 'QueryType': row['QueryType'], 'QueryText': row['QueryText'], 'KccAns': row['KccAns']}, ignore_index=True)\n",
    "data = df        \n",
    "\n",
    "#Test-Train split\n",
    "X_train, X_test, y_train, y_test = train_test_split(data['QueryText'], data['QueryType'], test_size=0.33, random_state=53)\n",
    "\n",
    "#Count Vectorizer\n",
    "count_vectorizer = CountVectorizer(stop_words='english')\n",
    "count_train = count_vectorizer.fit_transform(X_train.values)\n",
    "count_test = count_vectorizer.transform(X_test.values)\n",
    "\n",
    "#Tfidf Transformer\n",
    "tfidf_transformer = TfidfTransformer()\n",
    "X_train_tfidf = tfidf_transformer.fit_transform(count_train)\n",
    "X_test_tfidf = tfidf_transformer.transform(count_test)\n",
    "\n",
    "#MultinomialNB (accuracy: 0.5596330275229358)\n",
    "clf = MultinomialNB().fit(X_train_tfidf, y_train)\n",
    "predicted = clf.predict(X_test_tfidf)\n",
    "np.mean(predicted==y_test)\n",
    "\n",
    "#SGD Classifier (accuracy: 0.6880733944954128)\n",
    "sgd = SGDClassifier(loss='hinge', penalty='l2', alpha=1e-3, max_iter=5, random_state=42)\n",
    "clf_sgd = sgd.fit(X_train_tfidf, y_train)\n",
    "print(X_train_tfidf.shape)\n",
    "#predicted_sgd = clf_sgd.predict(X_test_tfidf)\n",
    "#print('Accuracy: ', np.mean(predicted_sgd == y_test))\n",
    "pickle.dump(clf_sgd, open('model.pkl', 'wb'))\n",
    "model = pickle.load(open('model.pkl','rb'))\n",
    "#print(model.predict(X_test_tfidf))\n",
    "\n",
    "#MLP Classifier\n",
    "clf = MLPClassifier(solver='lbfgs', alpha=1e-5,hidden_layer_sizes=(100, 50, 70), random_state=1)\n",
    "clf.fit(X_train_tfidf, y_train)\n",
    "pred = clf.predict(X_test_tfidf)\n",
    "np.mean(pred == y_test)\n",
    "\n",
    "#extracting the entities\n",
    "\n",
    "def getIntent(input):\n",
    "    input_count = count_vectorizer.transform(input)\n",
    "    input_tfidf = tfidf_transformer.transform(input_count)\n",
    "    print(\"prediction: \", clf_sgd.predict(input_tfidf))\n",
    "\n",
    "def getEntity(input):\n",
    "    entity = \"others\"\n",
    "    words = input.split();\n",
    "    \n"
   ]
  },
  {
   "cell_type": "code",
   "execution_count": null,
   "metadata": {},
   "outputs": [],
   "source": []
  },
  {
   "cell_type": "code",
   "execution_count": null,
   "metadata": {},
   "outputs": [],
   "source": []
  }
 ],
 "metadata": {
  "kernelspec": {
   "display_name": "Python 3",
   "language": "python",
   "name": "python3"
  },
  "language_info": {
   "codemirror_mode": {
    "name": "ipython",
    "version": 3
   },
   "file_extension": ".py",
   "mimetype": "text/x-python",
   "name": "python",
   "nbconvert_exporter": "python",
   "pygments_lexer": "ipython3",
   "version": "3.6.5"
  }
 },
 "nbformat": 4,
 "nbformat_minor": 2
}
